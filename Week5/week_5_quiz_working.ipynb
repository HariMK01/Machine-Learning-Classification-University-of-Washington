{
 "cells": [
  {
   "cell_type": "code",
   "execution_count": 3,
   "metadata": {
    "collapsed": false
   },
   "outputs": [
    {
     "name": "stdout",
     "output_type": "stream",
     "text": [
      "\n"
     ]
    }
   ],
   "source": [
    "import math"
   ]
  },
  {
   "cell_type": "code",
   "execution_count": 4,
   "metadata": {
    "collapsed": false
   },
   "outputs": [
    {
     "name": "stdout",
     "output_type": "stream",
     "text": [
      "weightedError=  0.25\n"
     ]
    }
   ],
   "source": [
    "#quiz Q5\n",
    "weightedError = 0.25\n",
    "print \"weightedError= \", weightedError"
   ]
  },
  {
   "cell_type": "code",
   "execution_count": 5,
   "metadata": {
    "collapsed": false
   },
   "outputs": [
    {
     "name": "stdout",
     "output_type": "stream",
     "text": [
      "0.549306144334\n",
      "0.55\n"
     ]
    }
   ],
   "source": [
    "result = 0.5 * math.log((1-weightedError)/weightedError)\n",
    "print result\n",
    "print round(result, 2)"
   ]
  },
  {
   "cell_type": "code",
   "execution_count": 6,
   "metadata": {
    "collapsed": true
   },
   "outputs": [],
   "source": [
    "def calcWt(weightedError):\n",
    "    result = 0.5 * math.log((1-weightedError)/weightedError)\n",
    "    return result"
   ]
  },
  {
   "cell_type": "code",
   "execution_count": 7,
   "metadata": {
    "collapsed": false
   },
   "outputs": [
    {
     "name": "stdout",
     "output_type": "stream",
     "text": [
      "0.549306144334\n"
     ]
    }
   ],
   "source": [
    "print calcWt(0.25)"
   ]
  },
  {
   "cell_type": "code",
   "execution_count": 8,
   "metadata": {
    "collapsed": false
   },
   "outputs": [
    {
     "name": "stdout",
     "output_type": "stream",
     "text": [
      "calcWt(0.1) =  1.09861228867\n",
      "calcWt(0.3) =  0.423648930194\n",
      "calcWt(0.5) =  0.0\n",
      "calcWt(0.7) =  -0.423648930194\n",
      "calcWt(0.99) =  -2.29755992507\n"
     ]
    }
   ],
   "source": [
    "print \"calcWt(0.1) = \", calcWt(0.1)\n",
    "print \"calcWt(0.3) = \", calcWt(0.3)\n",
    "print \"calcWt(0.5) = \", calcWt(0.5)\n",
    "print \"calcWt(0.7) = \", calcWt(0.7)\n",
    "print \"calcWt(0.99) = \", calcWt(0.99)\n"
   ]
  },
  {
   "cell_type": "code",
   "execution_count": 9,
   "metadata": {
    "collapsed": true
   },
   "outputs": [],
   "source": [
    "#most accurate is largest value\n"
   ]
  },
  {
   "cell_type": "code",
   "execution_count": 12,
   "metadata": {
    "collapsed": false
   },
   "outputs": [
    {
     "name": "stdout",
     "output_type": "stream",
     "text": [
      "calcWt(0.25) =  0.549\n",
      "calcWt(0.49) =  0.02\n",
      "calcWt(0.5) =  0.0\n",
      "calcWt(0.51) =  -0.02\n",
      "calcWt(0.75) =  -0.549\n"
     ]
    }
   ],
   "source": [
    "print \"calcWt(0.25) = \", round(calcWt(0.25), 3)\n",
    "print \"calcWt(0.49) = \", round(calcWt(0.49), 3)\n",
    "print \"calcWt(0.5) = \", round(calcWt(0.5), 3)\n",
    "print \"calcWt(0.51) = \", round(calcWt(0.51), 3)\n",
    "print \"calcWt(0.75) = \", round(calcWt(0.75), 3)\n"
   ]
  },
  {
   "cell_type": "code",
   "execution_count": null,
   "metadata": {
    "collapsed": true
   },
   "outputs": [],
   "source": []
  }
 ],
 "metadata": {
  "kernelspec": {
   "display_name": "Python 2",
   "language": "python",
   "name": "python2"
  },
  "language_info": {
   "codemirror_mode": {
    "name": "ipython",
    "version": 2
   },
   "file_extension": ".py",
   "mimetype": "text/x-python",
   "name": "python",
   "nbconvert_exporter": "python",
   "pygments_lexer": "ipython2",
   "version": "2.7.11"
  }
 },
 "nbformat": 4,
 "nbformat_minor": 0
}
