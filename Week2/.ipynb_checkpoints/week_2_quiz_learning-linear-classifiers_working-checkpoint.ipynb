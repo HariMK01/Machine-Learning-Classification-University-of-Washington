{
 "cells": [
  {
   "cell_type": "code",
   "execution_count": 1,
   "metadata": {
    "collapsed": false
   },
   "outputs": [],
   "source": [
    "import numpy as np"
   ]
  },
  {
   "cell_type": "code",
   "execution_count": 8,
   "metadata": {
    "collapsed": true
   },
   "outputs": [],
   "source": [
    "#from numpy import exp\n",
    "import numpy\n",
    "\n",
    "def myfunction(s):\n",
    "    return 1.0/(1.0+np.exp(-float(s)))"
   ]
  },
  {
   "cell_type": "code",
   "execution_count": 9,
   "metadata": {
    "collapsed": true
   },
   "outputs": [],
   "source": [
    "xs = [2.5, 0.3, 2.8, 0.5]\n",
    "ys = [True, False, True, True]"
   ]
  },
  {
   "cell_type": "code",
   "execution_count": 10,
   "metadata": {
    "collapsed": false
   },
   "outputs": [
    {
     "name": "stdout",
     "output_type": "stream",
     "text": [
      "0.92\n",
      "0.57\n",
      "0.94\n",
      "0.62\n"
     ]
    }
   ],
   "source": [
    "print round(myfunction(xs[0]), 2)\n",
    "print round(myfunction(xs[1]), 2)\n",
    "print round(myfunction(xs[2]), 2)\n",
    "print round(myfunction(xs[3]), 2)\n"
   ]
  },
  {
   "cell_type": "code",
   "execution_count": 11,
   "metadata": {
    "collapsed": false
   },
   "outputs": [
    {
     "data": {
      "text/plain": [
       "[0.92, 0.57, 0.94, 0.62]"
      ]
     },
     "execution_count": 11,
     "metadata": {},
     "output_type": "execute_result"
    }
   ],
   "source": [
    "[round(myfunction(x), 2) for x in xs]"
   ]
  },
  {
   "cell_type": "code",
   "execution_count": 12,
   "metadata": {
    "collapsed": false
   },
   "outputs": [
    {
     "data": {
      "text/plain": [
       "0.23"
      ]
     },
     "execution_count": 12,
     "metadata": {},
     "output_type": "execute_result"
    }
   ],
   "source": [
    "#this step for calculating the cumulative probability.\n",
    "#1-probability step when ys[i] is not true.\n",
    "p = 1\n",
    "#cumulatively mult p x myfunction(xs[i]) over length of xs\n",
    "for i in range(len(xs)): \n",
    "    if ys[i]: p *= myfunction(xs[i])\n",
    "    else: p *= 1 - myfunction(xs[i])\n",
    "round(p, 2)"
   ]
  },
  {
   "cell_type": "code",
   "execution_count": 13,
   "metadata": {
    "collapsed": false
   },
   "outputs": [
    {
     "data": {
      "text/plain": [
       "0.37"
      ]
     },
     "execution_count": 13,
     "metadata": {},
     "output_type": "execute_result"
    }
   ],
   "source": [
    "s = 0\n",
    "for i in range(len(xs)): \n",
    "    #sum of xs[i] x ys[i] - myfunction(xs[i]) over all xs elements.\n",
    "    s += xs[i] * (int(ys[i]) - myfunction(xs[i]))\n",
    "round(s, 2)"
   ]
  },
  {
   "cell_type": "code",
   "execution_count": null,
   "metadata": {
    "collapsed": true
   },
   "outputs": [],
   "source": []
  }
 ],
 "metadata": {
  "kernelspec": {
   "display_name": "Python 2",
   "language": "python",
   "name": "python2"
  },
  "language_info": {
   "codemirror_mode": {
    "name": "ipython",
    "version": 2
   },
   "file_extension": ".py",
   "mimetype": "text/x-python",
   "name": "python",
   "nbconvert_exporter": "python",
   "pygments_lexer": "ipython2",
   "version": "2.7.11"
  }
 },
 "nbformat": 4,
 "nbformat_minor": 0
}
