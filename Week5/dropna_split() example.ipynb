{
 "cells": [
  {
   "cell_type": "code",
   "execution_count": 3,
   "metadata": {
    "collapsed": true
   },
   "outputs": [],
   "source": [
    "import graphlab"
   ]
  },
  {
   "cell_type": "code",
   "execution_count": 6,
   "metadata": {
    "collapsed": false
   },
   "outputs": [
    {
     "name": "stdout",
     "output_type": "stream",
     "text": [
      "+------+------+\n",
      "|  a   |  b   |\n",
      "+------+------+\n",
      "|  1   |  a   |\n",
      "| None |  b   |\n",
      "| None | None |\n",
      "+------+------+\n",
      "[3 rows x 2 columns]\n",
      "\n",
      "--------------------\n",
      "(1, 2)\n",
      "+---+---+\n",
      "| a | b |\n",
      "+---+---+\n",
      "| 1 | a |\n",
      "+---+---+\n",
      "[1 rows x 2 columns]\n",
      "\n",
      "--------------------\n",
      "(2, 2)\n",
      "+------+------+\n",
      "|  a   |  b   |\n",
      "+------+------+\n",
      "| None |  b   |\n",
      "| None | None |\n",
      "+------+------+\n",
      "[2 rows x 2 columns]\n",
      "\n"
     ]
    }
   ],
   "source": [
    "sf = graphlab.SFrame({'a': [1, None, None], 'b': ['a', 'b', None]})\n",
    "print sf\n",
    "good, bad = sf.dropna_split()\n",
    "#https://turi.com/products/create/docs/generated/graphlab.SFrame.dropna_split.html\n",
    "#how : {‘any’, ‘all’}, optional\n",
    "#Specifies whether a row should be dropped if at least one column has missing values, \n",
    "#or if all columns have missing values. ‘any’ is default.\n",
    "print \"--------------------\"\n",
    "print good.shape\n",
    "print good\n",
    "print \"--------------------\"\n",
    "print bad.shape\n",
    "print bad"
   ]
  },
  {
   "cell_type": "code",
   "execution_count": null,
   "metadata": {
    "collapsed": true
   },
   "outputs": [],
   "source": []
  }
 ],
 "metadata": {
  "kernelspec": {
   "display_name": "Python 2",
   "language": "python",
   "name": "python2"
  },
  "language_info": {
   "codemirror_mode": {
    "name": "ipython",
    "version": 2
   },
   "file_extension": ".py",
   "mimetype": "text/x-python",
   "name": "python",
   "nbconvert_exporter": "python",
   "pygments_lexer": "ipython2",
   "version": "2.7.11"
  }
 },
 "nbformat": 4,
 "nbformat_minor": 0
}
